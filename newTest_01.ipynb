{
 "cells": [
  {
   "cell_type": "code",
   "execution_count": null,
   "metadata": {},
   "outputs": [],
   "source": [
    "import pandas as pd\n",
    "import sqlite3\n",
    "from datetime import datetime\n",
    "dfs = pd.read_html('https://rate.bot.com.tw/xrt?Lang=zh-TW')\n",
    "curr = dfs[0]\n",
    "curr = curr.iloc[:,0:5]\n",
    "curr.columns = [u'幣別',u'現金-本行買入',u'現金-本行賣出',u'即期-本行買入',u'即期-本行賣出']\n",
    "curr[u'幣別'] = curr[u'幣別'].str.extract('\\((\\w+)\\)')\n",
    "curr['date'] = datetime.now().strftime('%Y-%m-%d')\n",
    "curr['date'] = pd.to_datetime(curr['date'])\n",
    "\n",
    "with sqlite3.connect('v:\\\\curr.sqlite') as db:\n",
    "    curr.to_sql('curr', con = db, if_exists='append')"
   ]
  },
  {
   "cell_type": "code",
   "execution_count": null,
   "metadata": {},
   "outputs": [],
   "source": [
    "with sqlite3.connect('v:\\\\curr.sqlite') as db:\n",
    "    df = pd.read_sql_query('select * from curr', con = db)\n",
    "df"
   ]
  },
  {
   "cell_type": "code",
   "execution_count": null,
   "metadata": {},
   "outputs": [],
   "source": []
  }
 ],
 "metadata": {
  "kernelspec": {
   "display_name": "Python 3",
   "language": "python",
   "name": "python3"
  },
  "language_info": {
   "codemirror_mode": {
    "name": "ipython",
    "version": 3
   },
   "file_extension": ".py",
   "mimetype": "text/x-python",
   "name": "python",
   "nbconvert_exporter": "python",
   "pygments_lexer": "ipython3",
   "version": "3.8.5"
  }
 },
 "nbformat": 4,
 "nbformat_minor": 4
}
